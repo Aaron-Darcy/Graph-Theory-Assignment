{
 "cells": [
  {
   "cell_type": "markdown",
   "id": "bf13504f",
   "metadata": {},
   "source": [
    "<h1>Graph Isomorphism Problem Notebook</h1>"
   ]
  },
  {
   "cell_type": "markdown",
   "id": "d999cf7c",
   "metadata": {},
   "source": [
    "In this notebook i will discussing and implementing my findings on the following points related to the \"Graph Isomorphism\".\n"
   ]
  },
  {
   "cell_type": "markdown",
   "id": "95025cb9",
   "metadata": {},
   "source": [
    "• Explanation of the Graphs and Graph Iomorphism Problem.\n",
    "\n",
    "• Explanation of how graphs can be represented in data structures.\n",
    "\n",
    "• Python function implementing an algorithm to determine if two graphs are isomorphic or not.\n",
    "\n",
    "• Discussion of the computational complexity of the Graph Isomorphism Problem.\n"
   ]
  },
  {
   "cell_type": "markdown",
   "id": "8ea9ec56",
   "metadata": {},
   "source": [
    "<h2>Graphs</h2>\n"
   ]
  },
  {
   "cell_type": "markdown",
   "id": "30c5dec0",
   "metadata": {},
   "source": [
    "According to wikipedia graph \"In mathematics, and more specifically in graph theory, a graph is a structure amounting to a set of objects in which some pairs of the objects are in some sense \"related\". The objects correspond to mathematical abstractions called vertices and each of the related pairs of vertices is called an edge.\"[1]\n",
    "\n",
    "Here is code implementing graphs in python."
   ]
  },
  {
   "cell_type": "code",
   "execution_count": 127,
   "id": "ef0230db",
   "metadata": {},
   "outputs": [
    {
     "data": {
      "image/png": "[encoded data removed]",
      "text/plain": [
       "<Figure size 432x288 with 1 Axes>"
      ]
     },
     "metadata": {},
     "output_type": "display_data"
    }
   ],
   "source": [
    "# Graphs.\n",
    "import networkx as nx\n",
    "# importing matplotlib.pyplot\n",
    "import matplotlib.pyplot as plt\n",
    "\n",
    "##Empty graph\n",
    "g = nx.Graph()\n",
    "\n",
    "#edges array for graph\n",
    "edges = [{0,1},{1,2},{2,3},{3,0}]\n",
    "\n",
    "##draw the graph (g) and with_labels and eges array\n",
    "g.add_edges_from(edges)\n",
    "\n",
    "##draws in spectral format\n",
    "nx.draw_spectral(g, with_labels = True)\n",
    "\n",
    "##graph shown below with 5 edges and 5 nodes\n"
   ]
  },
  {
   "cell_type": "markdown",
   "id": "289a94e0",
   "metadata": {},
   "source": [
    "<h2>What Is Graph Iomorphism?<h2>"
   ]
  },
  {
   "cell_type": "markdown",
   "id": "ea7d7e1c",
   "metadata": {},
   "source": [
    "According to wikipedia \"The graph isomorphism problem is the computational problem of determining whether two finite graphs are isomorphic\".[2]\n",
    "\n",
    "For any two graphs to be isomorphic, following 4 requirements must be met.\n",
    "\n",
    "• Number of vertices (where and edge meets)in both the graphs must be same.\n",
    "\n",
    "• Number of edges in both the graphs must be same.\n",
    "\n",
    "• Degree sequence of both the graphs must be same.\n",
    "\n",
    "• If a cycle of length k is formed by the vertices __{ v1 , v2 , ….. , vk }__ in one graph<br> then a cycle of same length k must be formed by the vertices __{ f(v1) , f(v2) , ….. , f(vk) }__ in the other graph as well.[3]\n",
    "\n",
    "Even if the graph meets all these 4 conditions we cannot gurantee that the graph will be isomorphic, But if they do not meet one of these conditions we can gurantee they are **not** isomorphic."
   ]
  },
  {
   "cell_type": "markdown",
   "id": "305d59bb",
   "metadata": {},
   "source": [
    "![image](GraphIsomorphism.png)\n",
    "\n",
    "*Example of isomorphism in graphs*"
   ]
  },
  {
   "cell_type": "markdown",
   "id": "6b0c60bd",
   "metadata": {},
   "source": [
    "<h2>Graphs & Data structures</h2>"
   ]
  },
  {
   "cell_type": "markdown",
   "id": "f13f2f70",
   "metadata": {},
   "source": [
    "A graph can be represented using 3 data structures - __adjacency matrix__, __adjacency list__ or __adjacency set__.[4]"
   ]
  },
  {
   "cell_type": "markdown",
   "id": "47877fa8",
   "metadata": {},
   "source": [
    "<h3>Adjacency Matrix</h3>\n",
    "An adjacency matrix is a table with rows and columns.These represent the nodes or vertices of the graph. Each cell represents the relationship between an edge or relationship between 2 nodes. The value of the will be a Boolean of either 1 or 0.<br>\n"
   ]
  },
  {
   "cell_type": "markdown",
   "id": "d5850eb9",
   "metadata": {},
   "source": [
    "![image](Adjacency.png)\n",
    "\n",
    "*Example of adjacency matrix in graphs*"
   ]
  },
  {
   "cell_type": "code",
   "execution_count": 128,
   "id": "80d438f1",
   "metadata": {},
   "outputs": [],
   "source": [
    "A = nx.to_numpy_array(g).astype(np.uint8) ## Assign A to the value of g\n",
    "A\n",
    "\n",
    "def mprint(A):\n",
    "    for r in A:\n",
    "        print(str(r)[1:-1])\n",
    "    print()\n",
    "    \n"
   ]
  },
  {
   "cell_type": "code",
   "execution_count": 129,
   "id": "a47a9cdd",
   "metadata": {},
   "outputs": [
    {
     "name": "stdout",
     "output_type": "stream",
     "text": [
      "[(0, 1, 2, 3), (0, 1, 3, 2), (0, 2, 1, 3), (0, 2, 3, 1), (0, 3, 1, 2), (0, 3, 2, 1), (1, 0, 2, 3), (1, 0, 3, 2), (1, 2, 0, 3), (1, 2, 3, 0), (1, 3, 0, 2), (1, 3, 2, 0), (2, 0, 1, 3), (2, 0, 3, 1), (2, 1, 0, 3), (2, 1, 3, 0), (2, 3, 0, 1), (2, 3, 1, 0), (3, 0, 1, 2), (3, 0, 2, 1), (3, 1, 0, 2), (3, 1, 2, 0), (3, 2, 0, 1), (3, 2, 1, 0)]\n"
     ]
    }
   ],
   "source": [
    "perms = it.permutations(range(len(A)))\n",
    "print(list(perms))\n",
    "##list of permutations for graph used in above python code above\n"
   ]
  },
  {
   "cell_type": "code",
   "execution_count": 130,
   "id": "cdf0f4ac",
   "metadata": {},
   "outputs": [
    {
     "name": "stdout",
     "output_type": "stream",
     "text": [
      "1 0 0 0\n",
      "0 1 0 0\n",
      "0 0 1 0\n",
      "0 0 0 1\n",
      "\n",
      "1 0 0 0\n",
      "0 1 0 0\n",
      "0 0 0 1\n",
      "0 0 1 0\n",
      "\n",
      "1 0 0 0\n",
      "0 0 1 0\n",
      "0 1 0 0\n",
      "0 0 0 1\n",
      "\n",
      "1 0 0 0\n",
      "0 0 1 0\n",
      "0 0 0 1\n",
      "0 1 0 0\n",
      "\n",
      "1 0 0 0\n",
      "0 0 0 1\n",
      "0 1 0 0\n",
      "0 0 1 0\n",
      "\n",
      "1 0 0 0\n",
      "0 0 0 1\n",
      "0 0 1 0\n",
      "0 1 0 0\n",
      "\n",
      "0 1 0 0\n",
      "1 0 0 0\n",
      "0 0 1 0\n",
      "0 0 0 1\n",
      "\n",
      "0 1 0 0\n",
      "1 0 0 0\n",
      "0 0 0 1\n",
      "0 0 1 0\n",
      "\n",
      "0 1 0 0\n",
      "0 0 1 0\n",
      "1 0 0 0\n",
      "0 0 0 1\n",
      "\n",
      "0 1 0 0\n",
      "0 0 1 0\n",
      "0 0 0 1\n",
      "1 0 0 0\n",
      "\n",
      "0 1 0 0\n",
      "0 0 0 1\n",
      "1 0 0 0\n",
      "0 0 1 0\n",
      "\n",
      "0 1 0 0\n",
      "0 0 0 1\n",
      "0 0 1 0\n",
      "1 0 0 0\n",
      "\n",
      "0 0 1 0\n",
      "1 0 0 0\n",
      "0 1 0 0\n",
      "0 0 0 1\n",
      "\n",
      "0 0 1 0\n",
      "1 0 0 0\n",
      "0 0 0 1\n",
      "0 1 0 0\n",
      "\n",
      "0 0 1 0\n",
      "0 1 0 0\n",
      "1 0 0 0\n",
      "0 0 0 1\n",
      "\n",
      "0 0 1 0\n",
      "0 1 0 0\n",
      "0 0 0 1\n",
      "1 0 0 0\n",
      "\n",
      "0 0 1 0\n",
      "0 0 0 1\n",
      "1 0 0 0\n",
      "0 1 0 0\n",
      "\n",
      "0 0 1 0\n",
      "0 0 0 1\n",
      "0 1 0 0\n",
      "1 0 0 0\n",
      "\n",
      "0 0 0 1\n",
      "1 0 0 0\n",
      "0 1 0 0\n",
      "0 0 1 0\n",
      "\n",
      "0 0 0 1\n",
      "1 0 0 0\n",
      "0 0 1 0\n",
      "0 1 0 0\n",
      "\n",
      "0 0 0 1\n",
      "0 1 0 0\n",
      "1 0 0 0\n",
      "0 0 1 0\n",
      "\n",
      "0 0 0 1\n",
      "0 1 0 0\n",
      "0 0 1 0\n",
      "1 0 0 0\n",
      "\n",
      "0 0 0 1\n",
      "0 0 1 0\n",
      "1 0 0 0\n",
      "0 1 0 0\n",
      "\n",
      "0 0 0 1\n",
      "0 0 1 0\n",
      "0 1 0 0\n",
      "1 0 0 0\n",
      "\n"
     ]
    }
   ],
   "source": [
    "perms = it.permutations(range(len(A)))\n",
    "I = np.identity(len(A)).astype(np.uint8)\n",
    "for p in perms:\n",
    "    mprint(I[list(p)])\n",
    "    ##Matrices for each permutation of this graph."
   ]
  },
  {
   "cell_type": "markdown",
   "id": "253f1be1",
   "metadata": {},
   "source": [
    "<h3>Adjacency List</h3>\n",
    "An adjacency list shows how a graph as a linked list. The index of the list shows a vertex and each vertex that its linked too. \n",
    "For example in this image below. We see in figure (a) that 1 is connected to 2 and 5 which is represented in figure (b) where the index is 1 and connects to 2 and then 5."
   ]
  },
  {
   "cell_type": "markdown",
   "id": "0761d211",
   "metadata": {},
   "source": [
    "![image](linkedList.png)\n",
    "\n",
    "*Example of Adjacency List and Adjacecny Matrix in graphs*\n",
    "These are the 2 main ways of displaying graphs in data structures."
   ]
  },
  {
   "cell_type": "markdown",
   "id": "1efdf75f",
   "metadata": {},
   "source": [
    "<h2>Python Function Implementing An Algorithm To Determine if Two Graphs Are Isomorphic</h2>\n",
    "Below is code used to brute force check the isomorphism of 2 graphs i created below.[5]"
   ]
  },
  {
   "cell_type": "code",
   "execution_count": 131,
   "id": "6885ded7",
   "metadata": {},
   "outputs": [],
   "source": [
    "import itertools\n",
    "import numpy as np\n",
    "\n",
    "##gets length of matrix to see if both graphs are equal\n",
    "def get_graph_order(adj_matrix):\n",
    "    if len(adj_matrix) != len(adj_matrix[0]):\n",
    "        return -1\n",
    "    else:\n",
    "        return len(adj_matrix)\n",
    "\n",
    "##function to check if 2 matrices are degree sequences are equal. one of the graph iphomorphisms conditions\n",
    "def get_degree_sequence(adj_matrix):\n",
    "    degree_sequence = []\n",
    "    for vertex in range(len(adj_matrix)):\n",
    "        degree_sequence.append(sum(adj_matrix[vertex]))\n",
    "    degree_sequence.sort(reverse=True)\n",
    "    return degree_sequence\n",
    "\n",
    "##gets all permutations just like shown above\n",
    "def get_all_vertex_permutations(adj_matrix):\n",
    "    if get_graph_order(adj_matrix) > 8:\n",
    "        print(\"This function is too inefficient for graph order > 8\")\n",
    "        return -1\n",
    "    all_adj_matrix = []\n",
    "    idx = list(range(len(adj_matrix)))\n",
    "    possible_idx_combinations = [\n",
    "        list(i) for i in itertools.permutations(idx, len(idx))\n",
    "    ]\n",
    "    for idx_comb in possible_idx_combinations:\n",
    "        a = adj_matrix\n",
    "        a = a[idx_comb]\n",
    "        a = np.transpose(np.transpose(a)[idx_comb])\n",
    "        all_adj_matrix.append({\n",
    "            \"perm_vertex\":\n",
    "            idx_comb,\n",
    "            \"adj_matrix\":\n",
    "            a\n",
    "        })\n",
    "\n",
    "    return all_adj_matrix\n",
    "\n",
    "##Main function for testing\n",
    "def brute_force_test_graph_isomporphism(adj_1, adj_2):\n",
    "    ##sets degree sequences\n",
    "    degree_sequence_1 = get_degree_sequence(adj_1)\n",
    "    degree_sequence_2 = get_degree_sequence(adj_2)\n",
    "    #checks order\n",
    "    if get_graph_order(adj_1) != get_graph_order(adj_1):\n",
    "        return False\n",
    "    elif np.array_equal(degree_sequence_1, degree_sequence_2) == False:\n",
    "        return False\n",
    "    else:\n",
    "        for adj_matrix in list(\n",
    "                map(lambda matrix: matrix[\"adj_matrix\"],\n",
    "                    get_all_vertex_permutations(adj_2))):\n",
    "            if np.array_equal(adj_1, adj_matrix) == True:\n",
    "                return True\n",
    "    return False"
   ]
  },
  {
   "cell_type": "code",
   "execution_count": 132,
   "id": "3e699ad4",
   "metadata": {},
   "outputs": [
    {
     "data": {
      "image/png": "[encoded data removed]",
      "text/plain": [
       "<Figure size 432x288 with 1 Axes>"
      ]
     },
     "metadata": {},
     "output_type": "display_data"
    }
   ],
   "source": [
    "##2 Empty graph\n",
    "g1 = nx.Graph()\n",
    "g2 = nx.Graph()\n",
    "\n",
    "#edges array for graphs\n",
    "edges1 = [{1,2},{2,4},{4,3},{4,5}]\n",
    "edges2 = [{2,4},{1,2},{4,5},{4,3}]\n",
    "\n",
    "##add edges to both graphs\n",
    "g1.add_edges_from(edges1)\n",
    "g2.add_edges_from(edges2)\n",
    "\n",
    "##draws in spectral format\n",
    "nx.draw_spectral(g1, with_labels = True)"
   ]
  },
  {
   "cell_type": "code",
   "execution_count": 133,
   "id": "c5bd3bd7",
   "metadata": {},
   "outputs": [
    {
     "data": {
      "image/png": "[encoded data removed]",
      "text/plain": [
       "<Figure size 432x288 with 1 Axes>"
      ]
     },
     "metadata": {},
     "output_type": "display_data"
    }
   ],
   "source": [
    "nx.draw(g2, with_labels = True)##Graph "
   ]
  },
  {
   "cell_type": "code",
   "execution_count": 134,
   "id": "9d7e2376",
   "metadata": {},
   "outputs": [
    {
     "data": {
      "text/plain": [
       "True"
      ]
     },
     "execution_count": 134,
     "metadata": {},
     "output_type": "execute_result"
    }
   ],
   "source": [
    "##setting the 2 matrices from the graphs above\n",
    "adj_1 = nx.to_numpy_array(g1).astype(np.uint8)\n",
    "adj_2 = nx.to_numpy_array(g2).astype(np.uint8)\n",
    "\n",
    "##calling function to check if they are isomophic\n",
    "brute_force_test_graph_isomporphism(adj_1, adj_2)\n",
    "\n",
    "##result below"
   ]
  },
  {
   "cell_type": "markdown",
   "id": "c3dd1038",
   "metadata": {},
   "source": [
    "<h2>Computational Complexity of The Graph Isomorphism Problem</h2>"
   ]
  },
  {
   "cell_type": "markdown",
   "id": "3582fa76",
   "metadata": {},
   "source": [
    "The computational time complexity of Graph Isomorphism Problem is __not__ known to be solvable in polymonial time by a determnistic machine. This means a machine that knows its future states(determnistic machine) can not solve the complexity of the problem. This means that the problem falls into a complexity category of \"__NP-intermediate__\"[1]."
   ]
  },
  {
   "cell_type": "markdown",
   "id": "3219aaaa",
   "metadata": {},
   "source": [
    "<h2>References</h2>\n",
    "•<a href=\"https://en.wikipedia.org/wiki/Graph_isomorphism_problem\">[1]</a> Graph Ismorphism Problem Wiki<br>\n",
    "•<a href=\"https://www.gatevidyalay.com/graph-isomorphism/#:~:text=Graph%20Isomorphism%20Conditions%2D&text=Number%20of%20vertices%20in%20both,the%20graphs%20must%20be%20same.\">[2]</a> Graph Wikipedia<br>\n",
    "•<a href=\"https://en.wikipedia.org/wiki/Graph_(discrete_mathematics)\">[3]</a> Gatevidyalay Graph-Isomorphism<br>\n",
    "  •<a href=\"https://www.mygreatlearning.com/blog/representing-graphs-in-data-structures/#:~:text=A%20graph%20can%20be%20represented,the%20nodes%20of%20a%20graph.\">[4]</a> MyGreatlearning Graphs/Data Structures<br>\n",
    "•<a href=\"https://tonicanada.medium.com/brute-force-code-for-isomorphisms-1241ef180570\">[5]</a> Tonic Canada - help with code<br>"
   ]
  },
  {
   "cell_type": "code",
   "execution_count": null,
   "id": "66853ace",
   "metadata": {},
   "outputs": [],
   "source": []
  },
  {
   "cell_type": "code",
   "execution_count": null,
   "id": "a7005a0a",
   "metadata": {},
   "outputs": [],
   "source": []
  }
 ],
 "metadata": {
  "kernelspec": {
   "display_name": "Python 3 (ipykernel)",
   "language": "python",
   "name": "python3"
  },
  "language_info": {
   "codemirror_mode": {
    "name": "ipython",
    "version": 3
   },
   "file_extension": ".py",
   "mimetype": "text/x-python",
   "name": "python",
   "nbconvert_exporter": "python",
   "pygments_lexer": "ipython3",
   "version": "3.9.7"
  }
 },
 "nbformat": 4,
 "nbformat_minor": 5
}
