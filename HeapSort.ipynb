{
 "cells": [
  {
   "cell_type": "markdown",
   "id": "9d788a4b-e296-4761-ae59-84a408c38f02",
   "metadata": {},
   "source": [
    "<h1>Heap Sort Algorythm</h1>"
   ]
  },
  {
   "cell_type": "markdown",
   "id": "92876208-ec3e-4d13-b3c6-226fc6948946",
   "metadata": {},
   "source": [
    "In this notebook i will discussing and implementing my findings on the following points related to the sorting algorythm heapsort.\n",
    "\n",
    "• Explanation of the Heap Sort algorithm\n",
    "\n",
    "• Python function implementing Heap Sort.\n",
    "\n",
    "• Explanation of the computational complexity of Heap Sort.\n",
    "\n",
    "• Explanation of how graph theory is used in Heap Sort.\n",
    "\n",
    "\n"
   ]
  },
  {
   "cell_type": "markdown",
   "id": "9adf509a-28fe-4dbc-9b3d-07e95d3cce88",
   "metadata": {},
   "source": [
    "<h2>What is Heap sort?</h2>"
   ]
  },
  {
   "cell_type": "markdown",
   "id": "0ff2d838-0d54-48cd-a930-c316dde4b50a",
   "metadata": {},
   "source": [
    "Heapsort is a comparing technique based on the binary heap data structure. It sorts the data by making two heaps. It does this by extracting the largest or smallest child of data from the left and sorts it to right heap. A binary heap is a tree of data in which every parent is either greater in size or smaller than the 2 child nodes. This is called a max or min heap. The properties of a max or min heap are as follows.<br>\n",
    "**Max Heap** = Parent Node >= Child Node <br>\n",
    "**Min Heap** = Parent Node <= Child Node\n",
    "<a href=\"https://www.geeksforgeeks.org/heap-sort/\">[1]</a>\n",
    "\n"
   ]
  },
  {
   "cell_type": "markdown",
   "id": "7c233c4f-bffa-4d69-b79e-1dc95017163c",
   "metadata": {},
   "source": [
    "![image](minmaxheap.png)\n",
    "*figure 1 showing min and max heapsort binary trees*"
   ]
  },
  {
   "cell_type": "markdown",
   "id": "dc69f8d8-b7d8-4c38-b3e9-1841b1775b6d",
   "metadata": {
    "tags": []
   },
   "source": [
    "<h2>Heapify</h2>\n",
    "Heapify is the process of rearranging a heap to maintain the heap property. If the parent node is greater or less than or equal to the value of its children. If the parent node's value does not follow the property of the min or max sort then swap it with the min or max child value depending on which sort you are using.• <a href=\"https://www.programiz.com/dsa/heap-data-structure#:~:text=Heapify%20is%20the%20process%20of,by%20n%2F2%20%2D%201%20\">\n",
    "      [2]</a> "
   ]
  },
  {
   "cell_type": "markdown",
   "id": "bd80dd50-276d-4de1-bb24-1d508a213eac",
   "metadata": {},
   "source": [
    "<h2>Python Function Implementing Heap Sort.</h2>\n"
   ]
  },
  {
   "cell_type": "code",
   "execution_count": 1,
   "id": "8adeb063-992d-4a30-aa4e-4b7881bc31f0",
   "metadata": {},
   "outputs": [
    {
     "name": "stdout",
     "output_type": "stream",
     "text": [
      "Original array:\n",
      "12 67 10 1 99 55  \n",
      "Sorted array:\n",
      "1 10 12 55 67 99 "
     ]
    }
   ],
   "source": [
    "def heapify(arr, n, i): \n",
    "    largest = i #Initialize max value as parent node. This is heapyfying the array.\n",
    "    l = 2 * i + 1\n",
    "    r = 2 * i + 2\n",
    "\n",
    "    #If left child is greater than parent \n",
    "    if l < n and arr[i] < arr[l]:\n",
    "      largest = l\n",
    "    \n",
    "    #If right child is greater than max\n",
    "    if r < n and arr[largest] < arr[r]:\n",
    "      largest = r\n",
    "\n",
    "    #If max is not parent\n",
    "    if largest != i:\n",
    "      arr[i], arr[largest] = arr[largest], arr[i]\n",
    "      heapify(arr, n, largest) ##heapify the root\n",
    "\n",
    "#Main function to perform heap sort\n",
    "def heapSort(arr):\n",
    "  n = len(arr)\n",
    "\n",
    "  #Build MaxHeap\n",
    "  for i in range(n //2, -1, -1):\n",
    "    heapify(arr, n, i)\n",
    "\n",
    "  #Extract elements from heap one by one\n",
    "  for i in range(n - 1, 0, -1): \n",
    "    arr[i], arr[0] = arr[0], arr[i]\n",
    "    heapify(arr, i, 0)\n",
    "\n",
    "#code to initiliaze an array and call the heapsort function\n",
    "arr = [12, 67, 10, 1, 99, 55] \n",
    "n = len(arr) \n",
    "print(\"Original array:\") \n",
    "for i in range(n):       \n",
    "    print(\"%d \" % arr[i], end = '') \n",
    "heapSort(arr)\n",
    "print(\" \")\n",
    "print(\"Sorted array:\") \n",
    "for i in range(n):       \n",
    "    print(\"%d \" % arr[i], end = '')"
   ]
  },
  {
   "cell_type": "markdown",
   "id": "97435fda-4c3d-4553-8966-43507b5671f2",
   "metadata": {
    "tags": []
   },
   "source": [
    "<h2>The Computational Complexity of Heap Sort.</h2>"
   ]
  },
  {
   "cell_type": "markdown",
   "id": "ef7687bb-198e-46ef-9b84-8d5a74be9a0e",
   "metadata": {},
   "source": [
    "**What is Computational complexity?**<br>\n",
    "In computer science, the computational complexity or simply complexity of an algorithm is the amount of resources required to run it. Particular focus is given to time and memory requirements. The complexity of a problem is the complexity of the best algorithms that allow solving the problem.[3]<br>\n",
    "This improtant when we want to know when to use a certain algorythm for a certain situation. Essentially we want to know how much **time** and how much **space/memory** it will take to run the given algorythm.\n",
    "\n",
    "<h3>Time Complexity of Heap Sort</h3>\n",
    "To get the time complexity of heap sort we need to get the time complexity of the **heapify()** function first . if a tree contains 'n' number of nodes that means that any subtree or child of that parent/tree has a max of 2n/3 node. which means that that the time complexity of heapify is: <br>\n",
    "**T(n) = t(2n/3) + o(i)** <br>\n",
    "From this we conclude that the time complexity of heapify is:<br>\n",
    "**T(n) = o(log n)**\n",
    "\n",
    "To get the time complexity of **heapsort()** or build max heap. Since the complexity of the heapify() function is O(log n), the complexity for the buildHeap() function is:<br>\n",
    "**maximum x O(n log n)**\n",
    "\n",
    "Since both functions have the the same time complexity. The total time complextiy for the heapsort algorythm is:<br>\n",
    "**O(n log n)**\n",
    "\n",
    "<h3>Space Complexity of Heapsort</h3>\n",
    "Heap Sort is a sorting method that uses no additional memory which means that the space complexity of heapsort is:<br> \n",
    "**o(1)** [4]\n",
    "\n"
   ]
  },
  {
   "cell_type": "markdown",
   "id": "5b937d5c-c369-447f-823b-3f301bae4e6f",
   "metadata": {},
   "source": [
    "<h2>How Graph Theory Is Used In Heap Sort.</h2>"
   ]
  },
  {
   "cell_type": "markdown",
   "id": "e056e50e-7e66-40a2-aec8-96092725f1df",
   "metadata": {},
   "source": [
    "<h3>What Is Graph Theory?</h3>\n",
    "According to the oxford dictionary Graph theory is \"the mathematical theory of the properties and applications of graphs.\"<br>\n",
    "<h4>Use Of Heap Sort In Graphs</h4>\n",
    "We know from figure one that we can represent Heap Sort as nodes and lines which are easily represented as a graph.\n"
   ]
  },
  {
   "cell_type": "markdown",
   "id": "fa44273e",
   "metadata": {},
   "source": [
    "![image](comparison.png)\n",
    "*comparison of heapsort and K sort run time on a graph*\n"
   ]
  },
  {
   "cell_type": "markdown",
   "id": "2c7b4ae0-85fd-4687-830c-6d70f7a5b1fc",
   "metadata": {},
   "source": [
    "<h3>References</h3>\n",
    "•<a href=\"https://www.geeksforgeeks.org/heap-sort/\">\n",
    "    [1]</a>Geeks For Geeks Heapsort<br>\n",
    "  • <a href=\"https://www.programiz.com/dsa/heap-data-structure#:~:text=Heapify%20is%20the%20process%20of,by%20n%2F2%20%2D%201%20\">\n",
    "      [2]</a>  Programiz HeapSort<br>\n",
    "      • <a href=\"https://en.wikipedia.org/wiki/Computational_complexity\">\n",
    "      [3]</a> Computational Complexity<br>\n",
    "         • <a href=\"https://www.happycoders.eu/algorithms/heapsort/\">\n",
    "      [4]</a> Happycoders HeapSort <br>\n",
    "\n",
    "   \n",
    "\n"
   ]
  },
  {
   "cell_type": "code",
   "execution_count": null,
   "id": "3ef59873",
   "metadata": {},
   "outputs": [],
   "source": []
  }
 ],
 "metadata": {
  "kernelspec": {
   "display_name": "Python 3 (ipykernel)",
   "language": "python",
   "name": "python3"
  },
  "language_info": {
   "codemirror_mode": {
    "name": "ipython",
    "version": 3
   },
   "file_extension": ".py",
   "mimetype": "text/x-python",
   "name": "python",
   "nbconvert_exporter": "python",
   "pygments_lexer": "ipython3",
   "version": "3.9.7"
  }
 },
 "nbformat": 4,
 "nbformat_minor": 5
}
